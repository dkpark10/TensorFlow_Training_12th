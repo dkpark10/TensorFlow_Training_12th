{
 "cells": [
  {
   "cell_type": "code",
   "execution_count": null,
   "metadata": {
    "colab": {
     "base_uri": "https://localhost:8080/",
     "height": 134
    },
    "colab_type": "code",
    "executionInfo": {
     "elapsed": 25640,
     "status": "ok",
     "timestamp": 1546614452765,
     "user": {
      "displayName": "JinWon Lee",
      "photoUrl": "https://lh3.googleusercontent.com/-xi53GhRlwag/AAAAAAAAAAI/AAAAAAAAAAs/gpZpyx29RY4/s64/photo.jpg",
      "userId": "09449089977781029916"
     },
     "user_tz": -540
    },
    "id": "6NOzVfqxZxpj",
    "outputId": "fdbff1a8-00e3-457c-f770-60b336e974f4"
   },
   "outputs": [],
   "source": [
    "from google.colab import drive\n",
    "import os\n",
    "if not os.path.exists('/content/gdrive'):\n",
    "    drive.mount('/content/gdrive')"
   ]
  },
  {
   "cell_type": "code",
   "execution_count": null,
   "metadata": {
    "colab": {
     "base_uri": "https://localhost:8080/",
     "height": 37
    },
    "colab_type": "code",
    "executionInfo": {
     "elapsed": 725,
     "status": "ok",
     "timestamp": 1546614520822,
     "user": {
      "displayName": "JinWon Lee",
      "photoUrl": "https://lh3.googleusercontent.com/-xi53GhRlwag/AAAAAAAAAAI/AAAAAAAAAAs/gpZpyx29RY4/s64/photo.jpg",
      "userId": "09449089977781029916"
     },
     "user_tz": -540
    },
    "id": "Ic-NMrP2Z-OY",
    "outputId": "12e22d9a-62fe-4a0a-9cde-7a8489f17216"
   },
   "outputs": [],
   "source": [
    "cd '/content/gdrive/My Drive/TensorFlow_Training_12th'"
   ]
  },
  {
   "cell_type": "code",
   "execution_count": null,
   "metadata": {
    "colab": {
     "base_uri": "https://localhost:8080/",
     "height": 752
    },
    "colab_type": "code",
    "executionInfo": {
     "elapsed": 2505,
     "status": "ok",
     "timestamp": 1546614534623,
     "user": {
      "displayName": "JinWon Lee",
      "photoUrl": "https://lh3.googleusercontent.com/-xi53GhRlwag/AAAAAAAAAAI/AAAAAAAAAAs/gpZpyx29RY4/s64/photo.jpg",
      "userId": "09449089977781029916"
     },
     "user_tz": -540
    },
    "id": "foT9tL_CaOGE",
    "outputId": "573bccd5-5f34-41d4-b276-10489c63ae6a"
   },
   "outputs": [],
   "source": [
    "ls"
   ]
  },
  {
   "cell_type": "code",
   "execution_count": null,
   "metadata": {
    "colab": {
     "base_uri": "https://localhost:8080/",
     "height": 116037
    },
    "colab_type": "code",
    "executionInfo": {
     "elapsed": 54979,
     "status": "ok",
     "timestamp": 1546614600977,
     "user": {
      "displayName": "JinWon Lee",
      "photoUrl": "https://lh3.googleusercontent.com/-xi53GhRlwag/AAAAAAAAAAI/AAAAAAAAAAs/gpZpyx29RY4/s64/photo.jpg",
      "userId": "09449089977781029916"
     },
     "user_tz": -540
    },
    "id": "CuEhVS3LWvfF",
    "outputId": "2c69e98b-802f-4489-b415-c1b5ef524eb6"
   },
   "outputs": [],
   "source": [
    "!unzip simpsons_small.zip -d ./simpsons_small"
   ]
  },
  {
   "cell_type": "code",
   "execution_count": null,
   "metadata": {
    "colab": {
     "base_uri": "https://localhost:8080/",
     "height": 771
    },
    "colab_type": "code",
    "executionInfo": {
     "elapsed": 2265,
     "status": "ok",
     "timestamp": 1546614676817,
     "user": {
      "displayName": "JinWon Lee",
      "photoUrl": "https://lh3.googleusercontent.com/-xi53GhRlwag/AAAAAAAAAAI/AAAAAAAAAAs/gpZpyx29RY4/s64/photo.jpg",
      "userId": "09449089977781029916"
     },
     "user_tz": -540
    },
    "id": "pnztB86HWzEN",
    "outputId": "94b3452d-a6d0-4c83-eb62-c89dc90b5331"
   },
   "outputs": [],
   "source": [
    "ls"
   ]
  },
  {
   "cell_type": "code",
   "execution_count": null,
   "metadata": {
    "colab": {
     "base_uri": "https://localhost:8080/",
     "height": 56
    },
    "colab_type": "code",
    "executionInfo": {
     "elapsed": 2220,
     "status": "ok",
     "timestamp": 1546614681293,
     "user": {
      "displayName": "JinWon Lee",
      "photoUrl": "https://lh3.googleusercontent.com/-xi53GhRlwag/AAAAAAAAAAI/AAAAAAAAAAs/gpZpyx29RY4/s64/photo.jpg",
      "userId": "09449089977781029916"
     },
     "user_tz": -540
    },
    "id": "piAmI_dsW3El",
    "outputId": "d8f4b848-4083-4084-a035-bcca92f3e417"
   },
   "outputs": [],
   "source": [
    "ls simpsons_small"
   ]
  },
  {
   "cell_type": "code",
   "execution_count": null,
   "metadata": {
    "colab": {},
    "colab_type": "code",
    "id": "4b0ls8ZHW4Pd"
   },
   "outputs": [],
   "source": []
  }
 ],
 "metadata": {
  "accelerator": "GPU",
  "colab": {
   "name": "6_0_prepare_dataset.ipynb",
   "provenance": [],
   "version": "0.3.2"
  },
  "kernelspec": {
   "display_name": "Python 3",
   "language": "python",
   "name": "python3"
  },
  "language_info": {
   "codemirror_mode": {
    "name": "ipython",
    "version": 3
   },
   "file_extension": ".py",
   "mimetype": "text/x-python",
   "name": "python",
   "nbconvert_exporter": "python",
   "pygments_lexer": "ipython3",
   "version": "3.5.5"
  }
 },
 "nbformat": 4,
 "nbformat_minor": 1
}
