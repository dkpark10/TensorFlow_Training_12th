{
 "cells": [
  {
   "cell_type": "code",
   "execution_count": 1,
   "metadata": {},
   "outputs": [
    {
     "name": "stdout",
     "output_type": "stream",
     "text": [
      "1.13.1\n"
     ]
    }
   ],
   "source": [
    "## Importing Libraries\n",
    "\n",
    "import os\n",
    "import numpy as np\n",
    "import tensorflow as tf\n",
    "import matplotlib.pyplot as plt\n",
    "from PIL import Image\n",
    "\n",
    "print(tf.__version__)"
   ]
  },
  {
   "cell_type": "code",
   "execution_count": 2,
   "metadata": {},
   "outputs": [],
   "source": [
    "cd '/content/gdrive/My Drive/TensorFlow_Training_12th'"
   ]
  },
  {
   "cell_type": "code",
   "execution_count": 3,
   "metadata": {},
   "outputs": [],
   "source": [
    "## training에 사용할 image size\n",
    "img_width = 224\n",
    "img_height = 224\n",
    "\n",
    "## 전체 data 중에 test data의 비율\n",
    "test_ratio = 3/4"
   ]
  },
  {
   "cell_type": "code",
   "execution_count": 4,
   "metadata": {},
   "outputs": [],
   "source": [
    "## tfrecord file 이름과 경로 설정\n",
    "tfrecord_train = 'simpsons_small_train.tfrecord'\n",
    "tfrecord_test = 'simpsons_small_test.tfrecord'\n",
    "tfrecord_dir = 'tfrecords'\n",
    "\n",
    "if not os.path.exists(tfrecord_dir):\n",
    "    os.makedirs(tfrecord_dir)"
   ]
  },
  {
   "cell_type": "code",
   "execution_count": 5,
   "metadata": {},
   "outputs": [],
   "source": [
    "## image file 저장되어 있는 directory 이름\n",
    "image_dir = 'simpsons_small'"
   ]
  },
  {
   "cell_type": "code",
   "execution_count": 6,
   "metadata": {},
   "outputs": [
    {
     "name": "stdout",
     "output_type": "stream",
     "text": [
      "12 categories in E:\\Data\\simpsons_small\n",
      "['abraham_grampa_simpson', 'bart_simpson', 'charles_montgomery_burns', 'chief_wiggum', 'homer_simpson', 'krusty_the_clown', 'marge_simpson', 'milhouse_van_houten', 'moe_szyslak', 'ned_flanders', 'principal_skinner', 'sideshow_bob']\n"
     ]
    }
   ],
   "source": [
    "## image file들이 저장되어 있는 경로 설정\n",
    "cur_dir = os.getcwd()\n",
    "data_dir = cur_dir\n",
    "image_path = os.path.join(data_dir, image_dir)\n",
    "\n",
    "## image file 경로에 directory가 몇 개 있는지(class 수) 확인\n",
    "print ('{} categories in {}'.format(len(os.listdir(image_path)), image_path))\n",
    "\n",
    "categories = sorted(os.listdir(image_path))\n",
    "num_categ = len(categories)\n",
    "print (categories)"
   ]
  },
  {
   "cell_type": "code",
   "execution_count": 7,
   "metadata": {
    "scrolled": false
   },
   "outputs": [
    {
     "name": "stdout",
     "output_type": "stream",
     "text": [
      "832 abraham_grampa_simpson images are found / Label : 0\n",
      "832 bart_simpson images are found / Label : 1\n",
      "832 charles_montgomery_burns images are found / Label : 2\n",
      "832 chief_wiggum images are found / Label : 3\n",
      "832 homer_simpson images are found / Label : 4\n",
      "832 krusty_the_clown images are found / Label : 5\n",
      "832 marge_simpson images are found / Label : 6\n",
      "832 milhouse_van_houten images are found / Label : 7\n",
      "832 moe_szyslak images are found / Label : 8\n",
      "832 ned_flanders images are found / Label : 9\n",
      "832 principal_skinner images are found / Label : 10\n",
      "832 sideshow_bob images are found / Label : 11\n",
      "Total : 9984 images are found\n"
     ]
    }
   ],
   "source": [
    "## image file 확장자\n",
    "valid_exts = ['.jpg', '.png', '.jpeg', '.gif']\n",
    "\n",
    "## directory 별로 image file을 읽어서 확장자를 확인하여 list에 저장, label도 함께 저장\n",
    "imgnames = []\n",
    "labels = []\n",
    "for label, category in enumerate(categories):\n",
    "    filelist = os.listdir(os.path.join(image_path, category))    \n",
    "    img_cnt = 0\n",
    "    for f in filelist:\n",
    "        ext = os.path.splitext(f)[-1]\n",
    "        ## 올바른 확장자인지 check\n",
    "        if ext.lower() not in valid_exts:\n",
    "            continue        \n",
    "        ## 해당 class의 image list에 추가\n",
    "        imgnames.append(f)\n",
    "        ## label list에 해당 label 추가\n",
    "        labels.append(label)\n",
    "        ## class별 image 수 count\n",
    "        img_cnt += 1    \n",
    "    print('{} {} images are found / Label : {}'.format(img_cnt, category, label))\n",
    "print('Total : {} images are found'.format(len(imgnames)))"
   ]
  },
  {
   "cell_type": "code",
   "execution_count": 8,
   "metadata": {},
   "outputs": [
    {
     "name": "stdout",
     "output_type": "stream",
     "text": [
      "7488 2496\n"
     ]
    }
   ],
   "source": [
    "# Data shuffle 후에 80%는 training set / 20%는 test set으로 나눔\n",
    "numfiles = len(labels)\n",
    "idxrand = np.random.permutation(numfiles)\n",
    "idxtrain = idxrand[:int(test_ratio*numfiles)]\n",
    "idxtest = idxrand[int(test_ratio*numfiles):]\n",
    "print(len(idxtrain), len(idxtest))"
   ]
  },
  {
   "cell_type": "code",
   "execution_count": 9,
   "metadata": {},
   "outputs": [],
   "source": [
    "## tfrecord file 경로 설정\n",
    "train_tfr_path = os.path.join(cur_dir, tfrecord_dir, tfrecord_train)\n",
    "test_tfr_path = os.path.join(cur_dir, tfrecord_dir, tfrecord_test)\n",
    "\n",
    "## tfrecord writer\n",
    "writer_train = tf.python_io.TFRecordWriter(train_tfr_path)\n",
    "writer_test = tf.python_io.TFRecordWriter(test_tfr_path)"
   ]
  },
  {
   "cell_type": "code",
   "execution_count": 10,
   "metadata": {},
   "outputs": [],
   "source": [
    "def _int64_feature(value):\n",
    "    return tf.train.Feature(int64_list=tf.train.Int64List(value=[value]))\n",
    "\n",
    "def _bytes_feature(value):\n",
    "    return tf.train.Feature(bytes_list=tf.train.BytesList(value=[value]))"
   ]
  },
  {
   "cell_type": "code",
   "execution_count": 12,
   "metadata": {},
   "outputs": [
    {
     "name": "stdout",
     "output_type": "stream",
     "text": [
      "7488 train images are saved.\n"
     ]
    }
   ],
   "source": [
    "## training set을 tfrecord로 저장\n",
    "train_cnt = 0\n",
    "for idx in idxtrain:\n",
    "    label = labels[idx]\n",
    "    img_path = os.path.join(image_path, categories[label], imgnames[idx])\n",
    "    \n",
    "    image = Image.open(img_path)    \n",
    "    image = image.resize((img_height, img_width))\n",
    "    \n",
    "    image = np.asarray(image)\n",
    "    ## rank=3인지 check하여 아닐 경우 3으로 확장(gray image)\n",
    "    try:\n",
    "        ch = image.shape[2]\n",
    "    except:\n",
    "        image = np.tile(np.expand_dims(image, axis=2), [1, 1, 3])\n",
    "        ch = image.shape[2]\n",
    "        \n",
    "    if ch == 1:\n",
    "        image = np.tile(image, [1, 1, 3])\n",
    "        ch = image.shape[2]\n",
    "    ## channel이 3인지 확인\n",
    "    if ch != 3:\n",
    "        print(categories[label], imgnames[idx], \"has 4 channels\")\n",
    "        continue\n",
    "    image_str = image.tobytes()\n",
    "    \n",
    "    example = tf.train.Example(features=tf.train.Features(feature={\n",
    "        'image': _bytes_feature(image_str),\n",
    "        'label': _int64_feature(label)\n",
    "    }))\n",
    "    writer_train.write(example.SerializeToString())\n",
    "    train_cnt += 1\n",
    "print (\"{} train images are saved.\".format(train_cnt))"
   ]
  },
  {
   "cell_type": "code",
   "execution_count": 13,
   "metadata": {},
   "outputs": [
    {
     "name": "stdout",
     "output_type": "stream",
     "text": [
      "2496 test images are saved.\n"
     ]
    }
   ],
   "source": [
    "## test set을 tfrecord로 저장\n",
    "test_cnt = 0\n",
    "for idx in idxtest:\n",
    "    label = labels[idx]\n",
    "    img_path = os.path.join(image_path, categories[label], imgnames[idx])\n",
    "    image = Image.open(img_path)    \n",
    "    image = image.resize((img_height, img_width))\n",
    "    \n",
    "    image = np.asarray(image)\n",
    "    ## rank=3인지 check하여 아닐 경우 3으로 확장(gray image)\n",
    "    try:\n",
    "        ch = image.shape[2]\n",
    "    except:\n",
    "        image = np.tile(np.expand_dims(image, axis=2), [1, 1, 3])\n",
    "        ch = image.shape[2]\n",
    "        \n",
    "    if ch == 1:\n",
    "        image = np.tile(image, [1, 1, 3])\n",
    "        ch = image.shape[2]\n",
    "    ## channel이 3인지 확인\n",
    "    if ch != 3:\n",
    "        print(categories[label], imgnames[idx], \"has 4 channels\")\n",
    "        continue\n",
    "    image_str = image.tobytes()\n",
    "    \n",
    "    example = tf.train.Example(features=tf.train.Features(feature={\n",
    "        'image': _bytes_feature(image_str),\n",
    "        'label': _int64_feature(label)\n",
    "    }))\n",
    "    writer_test.write(example.SerializeToString())\n",
    "    test_cnt += 1\n",
    "print (\"{} test images are saved.\".format(test_cnt))"
   ]
  },
  {
   "cell_type": "code",
   "execution_count": 14,
   "metadata": {},
   "outputs": [],
   "source": [
    "writer_train.close()\n",
    "writer_test.close()"
   ]
  },
  {
   "cell_type": "code",
   "execution_count": null,
   "metadata": {},
   "outputs": [],
   "source": []
  }
 ],
 "metadata": {
  "kernelspec": {
   "display_name": "Python 3",
   "language": "python",
   "name": "python3"
  },
  "language_info": {
   "codemirror_mode": {
    "name": "ipython",
    "version": 3
   },
   "file_extension": ".py",
   "mimetype": "text/x-python",
   "name": "python",
   "nbconvert_exporter": "python",
   "pygments_lexer": "ipython3",
   "version": "3.5.5"
  }
 },
 "nbformat": 4,
 "nbformat_minor": 2
}
